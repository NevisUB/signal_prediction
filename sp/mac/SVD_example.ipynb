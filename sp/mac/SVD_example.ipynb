{
 "cells": [
  {
   "cell_type": "code",
   "execution_count": null,
   "metadata": {
    "collapsed": false
   },
   "outputs": [],
   "source": [
    "import matplotlib\n",
    "import matplotlib.pyplot as plt\n",
    "import numpy as np\n",
    "import pandas as pd\n",
    "%matplotlib inline\n",
    "\n",
    "import ROOT\n",
    "import root_numpy as rn\n",
    "\n",
    "matplotlib.rcParams['font.size']=20\n",
    "matplotlib.rcParams['font.family']='Times New Roman'\n",
    "\n",
    "from ROOT import sp\n",
    "sp.LoadCombined()"
   ]
  },
  {
   "cell_type": "code",
   "execution_count": null,
   "metadata": {
    "collapsed": false
   },
   "outputs": [],
   "source": [
    "df=pd.DataFrame(rn.root2array([\"../bin/filteredoutput_osc_mc_detail_1.root\",\n",
    "                               \"../bin/filteredoutput_osc_mc_detail_2.root\"],\n",
    "                               selection='Weight>0',treename='MiniBooNE_CCQE'))"
   ]
  },
  {
   "cell_type": "code",
   "execution_count": null,
   "metadata": {
    "collapsed": false
   },
   "outputs": [],
   "source": [
    "#Set Eqe and BkgdID via sp\n",
    "df['Eqe']    = df.apply(lambda x : sp.CombinedFit_EnuQE_ryan(x['Energy'],x['CosTheta'],3),axis=1)\n",
    "df['BkgdID'] = df.apply(lambda x : sp.CombinedFit_bkgd_type(x['NUANCEChan'],x['NuType']),axis=1)"
   ]
  },
  {
   "cell_type": "code",
   "execution_count": null,
   "metadata": {
    "collapsed": false
   },
   "outputs": [],
   "source": [
    "#\n",
    "# Profile view of True Enu\n",
    "#\n",
    "xlo=200\n",
    "xhi=2000\n",
    "dx =100\n",
    "bins=np.arange(xlo,xhi+dx,dx)\n",
    "pass_df = df.query(\"(NuType==3 | NuType==4) & NUANCEChan==1\")\n",
    "\n",
    "fig,ax=plt.subplots(figsize=(10,6))\n",
    "\n",
    "data1   = pass_df.NuMomT.values*1000.0\n",
    "weight1 = pass_df.Weight.values\n",
    "\n",
    "thist = ax.hist(data1,\n",
    "                weights=weight1,\n",
    "                bins=bins,\n",
    "                histtype='stepfilled',\n",
    "                label=['Nu_e CCQE'])#,'All Signal'])\n",
    "\n",
    "ax.legend(loc='best')\n",
    "ax.set_xlabel(\"Enu\",fontweight='bold')\n",
    "ax.set_xlim(300,2000)\n",
    "ax.grid()\n",
    "plt.show()\n",
    "\n",
    "\n",
    "x = thist[0]\n",
    "print x\n",
    "print data1.size"
   ]
  },
  {
   "cell_type": "code",
   "execution_count": null,
   "metadata": {
    "collapsed": false
   },
   "outputs": [],
   "source": [
    "#\n",
    "# Profile view of reconstructed Eqe\n",
    "#\n",
    "pass_df = df.query(\"PassOsc==1 & (NuType==3 | NuType==4) & NUANCEChan==1 & NuMomT > @bins[0]/1000.0 & NuMomT < @bins[-1]/1000.0\")\n",
    "\n",
    "\n",
    "fig,ax=plt.subplots(figsize=(10,6))\n",
    "\n",
    "data2   = pass_df.Eqe.values*1000.0\n",
    "weight2 = pass_df.Weight.values\n",
    "\n",
    "thist = ax.hist(data2,\n",
    "                weights=weight2,\n",
    "                bins=bins,\n",
    "                histtype='stepfilled',\n",
    "                label='Selected')\n",
    "\n",
    "ax.legend(loc='best')\n",
    "ax.set_xlabel(\"Eqe\",fontweight='bold')\n",
    "ax.set_xlim(300,2000)\n",
    "ax.grid()\n",
    "\n",
    "plt.show()\n",
    "print data1.size\n",
    "b = thist[0]\n",
    "print b"
   ]
  },
  {
   "cell_type": "code",
   "execution_count": null,
   "metadata": {
    "collapsed": false
   },
   "outputs": [],
   "source": [
    "#\n",
    "# Make migration matrix\n",
    "#\n",
    "\n",
    "#choose model here\n",
    "the_df = df.query(\"PassOsc==1 & (NuType==3 | NuType==4) & NUANCEChan==1\")\n",
    "\n",
    "fig,ax=plt.subplots(figsize=(10,6))\n",
    "\n",
    "data3   = the_df.NuMomT.values*1000.0\n",
    "weight3 = the_df.Weight.values\n",
    "\n",
    "data4   = the_df.Eqe.values*1000.0\n",
    "weight4 = the_df.Weight.values\n",
    "\n",
    "thist = ax.hist2d(data3,data4,weights=weight3,bins=[bins,bins])\n",
    "                  \n",
    "ax.legend(loc='best')\n",
    "ax.set_xlabel(\"Enu\",fontweight='bold')\n",
    "ax.set_ylabel(\"Eqe\",fontweight='bold')\n",
    "ax.grid()\n",
    "plt.colorbar(thist[3])\n",
    "plt.show()\n",
    "A=thist[0]\n",
    "A_ = A.T / x "
   ]
  },
  {
   "cell_type": "code",
   "execution_count": null,
   "metadata": {
    "collapsed": false
   },
   "outputs": [],
   "source": [
    "np.set_printoptions(3)\n",
    "#\n",
    "# Recover original reco spectrum\n",
    "#\n",
    "b_ = np.dot(A_,x)\n",
    "fig,ax=plt.subplots(figsize=(10,6))\n",
    "ax.hist(bins[:-1],bins=bins,weights=b ,histtype='step',linestyle='dashed',color='black')\n",
    "ax.hist(bins[:-1],bins=bins,weights=b_,histtype='step',color='blue')\n",
    "ax.set_xlim(300,2000)\n",
    "ax.grid()\n",
    "ax.set_xlabel(\"Folded\",fontweight='bold')\n",
    "plt.show()\n",
    "\n",
    "print \"b\"\n",
    "print b\n",
    "print\n",
    "print \"b_\"\n",
    "print b_\n",
    "print\n",
    "print \"b-b_\"\n",
    "print b-b_"
   ]
  },
  {
   "cell_type": "code",
   "execution_count": null,
   "metadata": {
    "collapsed": false
   },
   "outputs": [],
   "source": [
    "#\n",
    "# SVD\n",
    "#\n",
    "\n",
    "# numpy SVD\n",
    "U, s, V = np.linalg.svd(A_, full_matrices=True)\n",
    "\n",
    "#\n",
    "# Calculate with true reco\n",
    "#\n",
    "\n",
    "d = np.dot(U.T,b)\n",
    "z = d / s\n",
    "z = np.nan_to_num(z)\n",
    "x_ = np.dot(V.T,z)\n",
    "\n",
    "print \"s\"\n",
    "print s\n",
    "print\n",
    "print \"z\"\n",
    "print z\n",
    "print\n",
    "print \"d\"\n",
    "print d\n",
    "print\n",
    "print \"x_\"\n",
    "print x_\n",
    "print\n",
    "print \"V[-2]\"\n",
    "print V[-2]\n",
    "print"
   ]
  },
  {
   "cell_type": "code",
   "execution_count": null,
   "metadata": {
    "collapsed": false
   },
   "outputs": [],
   "source": [
    "plt.plot(s,'-o')\n",
    "ax=plt.gca()\n",
    "ax.set_xlabel(\"$s_i$\",fontweight='bold')\n",
    "ax.set_yscale('log')\n",
    "plt.show()\n",
    "\n",
    "plt.plot(np.abs(d),'-o')\n",
    "ax=plt.gca()\n",
    "ax.grid()\n",
    "ax.set_yscale('log')\n",
    "ax.hlines(1,0,len(d))\n",
    "ax.set_xlabel(\"$|d_i|$\",fontweight='bold')\n",
    "plt.show()"
   ]
  },
  {
   "cell_type": "code",
   "execution_count": null,
   "metadata": {
    "collapsed": false
   },
   "outputs": [],
   "source": [
    "#\n",
    "# Recover MC distribution\n",
    "#\n",
    "\n",
    "fig,ax=plt.subplots(figsize=(10,6))\n",
    "ax.hist(bins[:-1],bins=bins,weights=x ,histtype='step',lw=2,color='black',linestyle='dashed')\n",
    "\n",
    "x__ = np.where((x_<1e9) & (x_>-1e9),x_,0.0)\n",
    "ax.hist(bins[:-1],bins=bins,weights=x__,histtype='step',lw=2,color='blue')\n",
    "ax.set_xlim(300,2000)\n",
    "ax.grid()\n",
    "ax.set_xlabel(\"Folded\",fontweight='bold')\n",
    "plt.show()"
   ]
  },
  {
   "cell_type": "code",
   "execution_count": null,
   "metadata": {
    "collapsed": false
   },
   "outputs": [],
   "source": [
    "#\n",
    "# Poisson fluctuation\n",
    "#\n",
    "b__ = np.random.poisson(b_)\n",
    "fig,ax=plt.subplots(figsize=(10,6))\n",
    "ax.hist(bins[:-1],bins=bins,weights=b_ ,histtype='step',lw=2,color='black',linestyle='dashed')\n",
    "ax.hist(bins[:-1],bins=bins,weights=b__,histtype='step',color='green',lw=2)\n",
    "ax.set_xlim(300,2000)\n",
    "ax.grid()\n",
    "ax.set_xlabel(\"Folded\",fontweight='bold')\n",
    "plt.show()"
   ]
  },
  {
   "cell_type": "code",
   "execution_count": null,
   "metadata": {
    "collapsed": false
   },
   "outputs": [],
   "source": [
    "# normalize columns\n",
    "A_ = A.T / x \n",
    "\n",
    "# numpy SVD\n",
    "U, s, V = np.linalg.svd(A_)\n",
    "\n",
    "#\n",
    "# Calculate with poisson fluctuated\n",
    "#\n",
    "print \"s\"\n",
    "print s\n",
    "print\n",
    "d = np.dot(U.T,b__)\n",
    "z = np.nan_to_num(d / s)\n",
    "x_ = np.dot(V.T,z)\n",
    "print \"z\"\n",
    "print z\n",
    "print\n",
    "print \"d\"\n",
    "print d\n",
    "print\n",
    "print \"x_\"\n",
    "print x_"
   ]
  },
  {
   "cell_type": "code",
   "execution_count": null,
   "metadata": {
    "collapsed": false
   },
   "outputs": [],
   "source": [
    "#\n",
    "# Recover MC with poisson fluctuated reco\n",
    "#\n",
    "fig,ax=plt.subplots(figsize=(10,6))\n",
    "ax.hist(bins[:-1],bins=bins,weights=x ,histtype='step',lw=2,color='black',linestyle='dashed')\n",
    "\n",
    "x__ = np.where((x_<1e9) & (x_>-1e9),x_,0.0)\n",
    "ax.hist(bins[:-1],bins=bins,weights=x__,histtype='step',lw=2)\n",
    "ax.set_xlim(300,2000)\n",
    "ax.grid()\n",
    "ax.set_xlabel(\"Folded\",fontweight='bold')\n",
    "plt.show()"
   ]
  },
  {
   "cell_type": "code",
   "execution_count": null,
   "metadata": {
    "collapsed": false
   },
   "outputs": [],
   "source": [
    "#\n",
    "# Try out the regulator\n",
    "#\n",
    "\n",
    "#Build C\n",
    "sz = bins.size-1\n",
    "#sz=5\n",
    "a0 = np.ones(sz)\n",
    "a1 = np.ones(sz-1)\n",
    "\n",
    "C = -2.0*np.diag(a0,0) + np.diag(a1,-1) + np.diag(a1,1)\n",
    "C[0,0] = -1\n",
    "C[-1,-1] = -1\n",
    "\n",
    "epsi = np.power(10.0,-4)\n",
    "C += np.identity(sz) * epsi\n",
    "C_inv = np.linalg.inv(C)"
   ]
  },
  {
   "cell_type": "code",
   "execution_count": null,
   "metadata": {
    "collapsed": false
   },
   "outputs": [],
   "source": [
    "A_C = np.dot(A_,C_inv)\n",
    "\n",
    "# numpy SVD\n",
    "U, s, V = np.linalg.svd(A_C)\n",
    "\n",
    "d = np.dot(U.T,b__)\n",
    "k=5\n",
    "tau = s[k] * s[k]\n",
    "z = (d * s) / (s * s + tau)\n",
    "x_ = np.dot(C_inv,np.dot(V.T,z))"
   ]
  },
  {
   "cell_type": "code",
   "execution_count": null,
   "metadata": {
    "collapsed": false
   },
   "outputs": [],
   "source": [
    "plt.plot(s,'-o')\n",
    "ax=plt.gca()\n",
    "ax.set_yscale('log')\n",
    "ax.grid()\n",
    "ax.set_xlabel(\"$s_i$\")\n",
    "plt.show()\n",
    "\n",
    "plt.plot(np.abs(d),'-o')\n",
    "ax=plt.gca()\n",
    "ax.set_yscale('log')\n",
    "ax.grid()\n",
    "ax.set_xlabel(\"$d_i$\")\n",
    "plt.show()\n"
   ]
  },
  {
   "cell_type": "code",
   "execution_count": null,
   "metadata": {
    "collapsed": false
   },
   "outputs": [],
   "source": [
    "#\n",
    "# Recover MC with poisson fluctuated reco\n",
    "#\n",
    "fig,ax=plt.subplots(figsize=(10,6))\n",
    "ax.hist(bins[:-1],bins=bins,weights=x ,histtype='step',lw=2,color='black',linestyle='dashed')\n",
    "\n",
    "ax.hist(bins[:-1],bins=bins,weights=x_,histtype='step',lw=2)\n",
    "ax.set_xlim(300,2000)\n",
    "ax.grid()\n",
    "ax.set_xlabel(\"Folded\",fontweight='bold')\n",
    "plt.show()"
   ]
  },
  {
   "cell_type": "code",
   "execution_count": null,
   "metadata": {
    "collapsed": false
   },
   "outputs": [],
   "source": [
    "tsvd = sp.TikhonovSVD()"
   ]
  },
  {
   "cell_type": "code",
   "execution_count": null,
   "metadata": {
    "collapsed": false
   },
   "outputs": [],
   "source": [
    "A__ = A_.astype(np.float32)\n",
    "eigen_A = sp.as_mat_float32(A__.copy())"
   ]
  },
  {
   "cell_type": "code",
   "execution_count": null,
   "metadata": {
    "collapsed": false
   },
   "outputs": [],
   "source": [
    "tsvd.Initialize(eigen_A)"
   ]
  },
  {
   "cell_type": "code",
   "execution_count": null,
   "metadata": {
    "collapsed": false
   },
   "outputs": [],
   "source": [
    "epsi"
   ]
  },
  {
   "cell_type": "code",
   "execution_count": null,
   "metadata": {
    "collapsed": false
   },
   "outputs": [],
   "source": [
    "A__"
   ]
  },
  {
   "cell_type": "code",
   "execution_count": null,
   "metadata": {
    "collapsed": false
   },
   "outputs": [],
   "source": [
    "for i in xrange(10):\n",
    "    print tsvd.A()(0,i),eigen_A(0,i),A__[0,i]"
   ]
  },
  {
   "cell_type": "code",
   "execution_count": null,
   "metadata": {
    "collapsed": false
   },
   "outputs": [],
   "source": [
    "sp.as_array_float32(tsvd.C()).diagonal()"
   ]
  },
  {
   "cell_type": "code",
   "execution_count": null,
   "metadata": {
    "collapsed": false
   },
   "outputs": [],
   "source": [
    "plt.imshow(sp.as_array_float32(tsvd.A_C_inv()) -  np.dot(A__.astype(np.float32),np.linalg.inv(C.astype(np.float32))),\n",
    "           interpolation='none')\n",
    "\n",
    "ax=plt.gca()\n",
    "plt.colorbar()\n",
    "plt.show()\n",
    "\n",
    "\n",
    "plt.imshow(sp.as_array_float32(sp.Invert(tsvd.C())) -  np.linalg.inv(C.astype(np.float32)),\n",
    "           interpolation='none')\n",
    "\n",
    "ax=plt.gca()\n",
    "plt.colorbar()\n",
    "plt.show()"
   ]
  },
  {
   "cell_type": "code",
   "execution_count": null,
   "metadata": {
    "collapsed": false
   },
   "outputs": [],
   "source": [
    "np.linalg.inv(C.astype(np.float32))[:,-1]"
   ]
  },
  {
   "cell_type": "code",
   "execution_count": null,
   "metadata": {
    "collapsed": false
   },
   "outputs": [],
   "source": [
    "sp.as_array_float32(sp.Invert(tsvd.C()))[:,-1]"
   ]
  },
  {
   "cell_type": "code",
   "execution_count": null,
   "metadata": {
    "collapsed": false
   },
   "outputs": [],
   "source": [
    "print list(b__)\n",
    "k = sp.as_vector_float32(b__.astype(np.float32))\n",
    "print [i for i in b__]"
   ]
  },
  {
   "cell_type": "code",
   "execution_count": null,
   "metadata": {
    "collapsed": false
   },
   "outputs": [],
   "source": [
    "k_eigen = sp.to_vector_eigen(k)"
   ]
  },
  {
   "cell_type": "code",
   "execution_count": null,
   "metadata": {
    "collapsed": false
   },
   "outputs": [],
   "source": [
    "res=tsvd.Unfold(k_eigen,5)"
   ]
  },
  {
   "cell_type": "code",
   "execution_count": null,
   "metadata": {
    "collapsed": false
   },
   "outputs": [],
   "source": [
    "sp.as_array_float32(res)"
   ]
  },
  {
   "cell_type": "code",
   "execution_count": null,
   "metadata": {
    "collapsed": false
   },
   "outputs": [],
   "source": [
    "#\n",
    "# Recover MC with poisson fluctuated reco\n",
    "#\n",
    "fig,ax=plt.subplots(figsize=(10,6))\n",
    "ax.hist(bins[:-1],bins=bins,weights=x ,histtype='step',lw=2,color='black',linestyle='dashed')\n",
    "\n",
    "_x = sp.as_array_float32(res)\n",
    "ax.hist(bins[:-1],bins=bins,weights=_x,histtype='step',lw=2)\n",
    "ax.set_xlim(300,2000)\n",
    "ax.grid()\n",
    "ax.set_xlabel(\"Folded\",fontweight='bold')\n",
    "plt.show()"
   ]
  },
  {
   "cell_type": "code",
   "execution_count": null,
   "metadata": {
    "collapsed": false
   },
   "outputs": [],
   "source": [
    "plt.plot(sp.as_array_float32(tsvd.s()),'-o')\n",
    "ax=plt.gca()\n",
    "ax.set_yscale('log')\n",
    "ax.grid()\n",
    "plt.show()\n",
    "\n",
    "plt.plot(np.abs(sp.as_array_float32(tsvd.d())),'-o')\n",
    "ax=plt.gca()\n",
    "ax.set_yscale('log')\n",
    "ax.grid()\n",
    "plt.show()"
   ]
  },
  {
   "cell_type": "code",
   "execution_count": null,
   "metadata": {
    "collapsed": false
   },
   "outputs": [],
   "source": [
    "sp.as_array_float32(tsvd.d()) * sp.as_array_float32(tsvd.s())"
   ]
  },
  {
   "cell_type": "code",
   "execution_count": null,
   "metadata": {
    "collapsed": false
   },
   "outputs": [],
   "source": []
  }
 ],
 "metadata": {
  "kernelspec": {
   "display_name": "Python 2",
   "language": "python",
   "name": "python2"
  },
  "language_info": {
   "codemirror_mode": {
    "name": "ipython",
    "version": 2
   },
   "file_extension": ".py",
   "mimetype": "text/x-python",
   "name": "python",
   "nbconvert_exporter": "python",
   "pygments_lexer": "ipython2",
   "version": "2.7.10"
  }
 },
 "nbformat": 4,
 "nbformat_minor": 0
}
